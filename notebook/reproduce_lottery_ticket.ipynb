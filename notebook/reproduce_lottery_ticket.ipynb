{
 "cells": [
  {
   "cell_type": "code",
   "execution_count": 17,
   "id": "0742db0d-263d-4cf6-b102-d3f4163a6563",
   "metadata": {},
   "outputs": [
    {
     "name": "stdout",
     "output_type": "stream",
     "text": [
      "Using device: cuda\n"
     ]
    }
   ],
   "source": [
    "# import & set-up\n",
    "import torch\n",
    "import torch.nn as nn\n",
    "import torch.optim as optim\n",
    "import torch.nn.functional as F\n",
    "from torch.utils.data import DataLoader, random_split\n",
    "from torchvision import datasets, transforms\n",
    "import numpy as np\n",
    "import matplotlib.pyplot as plt\n",
    "\n",
    "device = torch.device(\"cuda\" if torch.cuda.is_available() else \"cpu\")\n",
    "print(\"Using device:\", device)"
   ]
  },
  {
   "cell_type": "code",
   "execution_count": 18,
   "id": "8a32164c-18b9-42c3-a42d-048df16444f3",
   "metadata": {},
   "outputs": [
    {
     "name": "stdout",
     "output_type": "stream",
     "text": [
      "Train set size: 60000, Test set size: 10000\n"
     ]
    }
   ],
   "source": [
    "# Transformasi: Normalisasi piksel ke [0,1]\n",
    "transform = transforms.Compose([\n",
    "    transforms.ToTensor()\n",
    "])\n",
    "\n",
    "# Download dan load MNIST\n",
    "full_train_dataset = datasets.MNIST(root='./data', train=True, download=True, transform=transform)\n",
    "test_dataset = datasets.MNIST(root='./data', train=False, download=True, transform=transform)\n",
    "\n",
    "# DataLoader\n",
    "train_size = int(0.9 * len(full_train_dataset))\n",
    "val_size = len(full_train_dataset) - train_size\n",
    "train_data, val_data = random_split(full_train_dataset, [train_size, val_size])\n",
    "\n",
    "train_loader = DataLoader(train_data, batch_size=64, shuffle=True)\n",
    "val_loader = DataLoader(val_data, batch_size=1000, shuffle=False)\n",
    "test_loader = DataLoader(test_dataset, batch_size=1000, shuffle=False)\n",
    "\n",
    "print(f\"Train set size: {len(train_dataset)}, Test set size: {len(test_dataset)}\")"
   ]
  },
  {
   "cell_type": "code",
   "execution_count": 19,
   "id": "d3b6330f-66cd-4e4c-8702-363a39acfeb5",
   "metadata": {},
   "outputs": [],
   "source": [
    "# LeNet Model\n",
    "class LeNet(nn.Module):\n",
    "    def __init__(self):\n",
    "        super(LeNet, self).__init__()\n",
    "        self.conv1 = nn.Conv2d(1, 10, kernel_size=5)\n",
    "        self.conv2 = nn.Conv2d(10, 20, kernel_size=5)\n",
    "        self.fc1 = nn.Linear(320, 50)\n",
    "        self.fc2 = nn.Linear(50, 10)\n",
    "\n",
    "    def forward(self, x):\n",
    "        x = F.relu(F.max_pool2d(self.conv1(x), 2))\n",
    "        x = F.relu(F.max_pool2d(self.conv2(x), 2))\n",
    "        x = x.view(-1, 320)\n",
    "        x = F.relu(self.fc1(x))\n",
    "        x = self.fc2(x)\n",
    "        return x"
   ]
  },
  {
   "cell_type": "code",
   "execution_count": 20,
   "id": "77c67fca-9d85-4be9-a4e2-7c74e7e4ced7",
   "metadata": {},
   "outputs": [],
   "source": [
    "# train, validation, test\n",
    "def train(model, device, train_loader, optimizer, criterion, epoch):\n",
    "    model.train()\n",
    "    total_loss = 0\n",
    "    for data, target in train_loader:\n",
    "        data, target = data.to(device), target.to(device)\n",
    "        optimizer.zero_grad()\n",
    "        output = model(data)\n",
    "        loss = criterion(output, target)\n",
    "        loss.backward()\n",
    "        optimizer.step()\n",
    "        total_loss += loss.item()\n",
    "    return total_loss / len(train_loader)\n",
    "\n",
    "def validate(model, device, val_loader, criterion):\n",
    "    model.eval()\n",
    "    correct = 0\n",
    "    loss = 0\n",
    "    with torch.no_grad():\n",
    "        for data, target in val_loader:\n",
    "            data, target = data.to(device), target.to(device)\n",
    "            output = model(data)\n",
    "            loss += criterion(output, target).item()\n",
    "            pred = output.argmax(dim=1)\n",
    "            correct += pred.eq(target).sum().item()\n",
    "    return loss / len(val_loader), 100. * correct / len(val_loader.dataset)\n",
    "\n",
    "def test(model, device, test_loader, criterion):\n",
    "    model.eval()\n",
    "    correct = 0\n",
    "    loss = 0\n",
    "    with torch.no_grad():\n",
    "        for data, target in test_loader:\n",
    "            data, target = data.to(device), target.to(device)\n",
    "            output = model(data)\n",
    "            loss += criterion(output, target).item()\n",
    "            pred = output.argmax(dim=1)\n",
    "            correct += pred.eq(target).sum().item()\n",
    "    return loss / len(test_loader), 100. * correct / len(test_loader.dataset)\n"
   ]
  },
  {
   "cell_type": "code",
   "execution_count": 21,
   "id": "12580996-2888-42a9-aef9-733a088edf4a",
   "metadata": {},
   "outputs": [],
   "source": [
    "# prunning\n",
    "def prune_by_percentile(model, prune_percent, current_mask):\n",
    "    all_weights = []\n",
    "    for name, param in model.named_parameters():\n",
    "        if name in current_mask:\n",
    "            masked_weights = param.data[current_mask[name] == 1]\n",
    "            all_weights += list(masked_weights.abs().cpu().detach().numpy())\n",
    "    threshold = np.percentile(np.array(all_weights), prune_percent)\n",
    "\n",
    "    new_mask = {}\n",
    "    for name, param in model.named_parameters():\n",
    "        if name in current_mask:\n",
    "            new_mask[name] = (param.data.abs() > threshold).float() * current_mask[name]\n",
    "    return new_mask\n",
    "\n",
    "def apply_mask_and_reset(model, initial_weights, mask_dict):\n",
    "    with torch.no_grad():\n",
    "        for name, param in model.named_parameters():\n",
    "            if name in mask_dict:\n",
    "                param.copy_(initial_weights[name] * mask_dict[name])"
   ]
  },
  {
   "cell_type": "code",
   "execution_count": 22,
   "id": "d1d5a203-f1ef-4355-a57d-b0fcb7355bc1",
   "metadata": {},
   "outputs": [],
   "source": [
    "# iterative prunning\n",
    "def run_experiment(prune_percent=20, max_iterations=5, early_stop_patience=3):\n",
    "    all_final_accuracies = []\n",
    "\n",
    "    for trial in range(5):\n",
    "        print(f\"\\n Trial {trial + 1}\")\n",
    "        model = LeNet().to(device)\n",
    "        initial_weights = {k: v.clone() for k, v in model.state_dict().items()}\n",
    "        current_mask = {k: torch.ones_like(v) for k, v in initial_weights.items() if 'weight' in k}\n",
    "\n",
    "        for iteration in range(max_iterations):\n",
    "            print(f\"\\n Iteration {iteration + 1}/{max_iterations}\")\n",
    "            model.load_state_dict(initial_weights)\n",
    "            apply_mask_and_reset(model, initial_weights, current_mask)\n",
    "\n",
    "            optimizer = optim.Adam(model.parameters(), lr=0.001)\n",
    "            criterion = nn.CrossEntropyLoss()\n",
    "\n",
    "            best_val_acc = 0\n",
    "            patience = 0\n",
    "            epoch = 0\n",
    "            max_epoch = 50\n",
    "            last_test_acc = 0\n",
    "\n",
    "            while epoch < max_epoch and patience < early_stop_patience:\n",
    "                train_loss = train(model, device, train_loader, optimizer, criterion, epoch)\n",
    "                val_loss, val_acc = validate(model, device, val_loader, criterion)\n",
    "                test_loss, test_acc = test(model, device, test_loader, criterion)\n",
    "\n",
    "                if val_acc > best_val_acc:\n",
    "                    best_val_acc = val_acc\n",
    "                    patience = 0\n",
    "                else:\n",
    "                    patience += 1\n",
    "\n",
    "                epoch += 1\n",
    "                print(f\"[Epoch {epoch}] Val Acc: {val_acc:.2f}%, Test Acc: {test_acc:.2f}%\")\n",
    "                last_test_acc = test_acc\n",
    "\n",
    "            all_final_accuracies.append(last_test_acc)\n",
    "            current_mask = prune_by_percentile(model, prune_percent, current_mask)\n",
    "\n",
    "    mean_acc = np.mean(all_final_accuracies)\n",
    "    std_acc = np.std(all_final_accuracies)\n",
    "    print(f\"\\n Final Test Accuracy over {5 * max_iterations} runs: {mean_acc:.2f}% ± {std_acc:.2f}%\")\n",
    "    return all_final_accuracies\n"
   ]
  },
  {
   "cell_type": "code",
   "execution_count": null,
   "id": "b924b592-983a-4428-af28-73f18181c61a",
   "metadata": {},
   "outputs": [
    {
     "name": "stdout",
     "output_type": "stream",
     "text": [
      "\n",
      " Trial 1\n",
      "\n",
      " Iteration 1/5\n"
     ]
    }
   ],
   "source": [
    "result_accs = run_experiment(prune_percent=20, max_iterations=5, early_stop_patience=3)"
   ]
  },
  {
   "cell_type": "code",
   "execution_count": 13,
   "id": "2ed77968-f0a0-435f-a51a-3a68cf2c88a9",
   "metadata": {},
   "outputs": [],
   "source": [
    "prune_percent = 20\n",
    "mask_dict = prune_by_percentile(model, prune_percent)"
   ]
  },
  {
   "cell_type": "code",
   "execution_count": 14,
   "id": "db71db7f-8a44-4a7a-aeef-3399b9eec317",
   "metadata": {},
   "outputs": [],
   "source": [
    "def apply_mask_and_reset(model, initial_weights, mask_dict):\n",
    "    \"\"\"\n",
    "    Terapkan mask ke bobot dan reset ke initial weights (hanya untuk bobot yang tidak dipruning)\n",
    "    \"\"\"\n",
    "    with torch.no_grad():\n",
    "        for name, param in model.named_parameters():\n",
    "            if name in mask_dict:\n",
    "                # Reset ke initial dan terapkan mask\n",
    "                param.copy_(initial_weights[name] * mask_dict[name])\n"
   ]
  },
  {
   "cell_type": "code",
   "execution_count": 15,
   "id": "a22f9169-9bc0-498f-b183-a2aa2cb19103",
   "metadata": {},
   "outputs": [
    {
     "name": "stdout",
     "output_type": "stream",
     "text": [
      "[Pruned] Epoch 1: Train Loss = 0.2707, Test Accuracy = 97.32%\n",
      "[Pruned] Epoch 2: Train Loss = 0.0808, Test Accuracy = 98.43%\n",
      "[Pruned] Epoch 3: Train Loss = 0.0589, Test Accuracy = 98.39%\n",
      "[Pruned] Epoch 4: Train Loss = 0.0459, Test Accuracy = 98.68%\n",
      "[Pruned] Epoch 5: Train Loss = 0.0377, Test Accuracy = 98.50%\n",
      "[Pruned] Epoch 6: Train Loss = 0.0316, Test Accuracy = 98.84%\n",
      "[Pruned] Epoch 7: Train Loss = 0.0267, Test Accuracy = 99.04%\n",
      "[Pruned] Epoch 8: Train Loss = 0.0230, Test Accuracy = 98.91%\n",
      "[Pruned] Epoch 9: Train Loss = 0.0201, Test Accuracy = 99.24%\n",
      "[Pruned] Epoch 10: Train Loss = 0.0179, Test Accuracy = 98.98%\n",
      "[Pruned] Epoch 11: Train Loss = 0.0154, Test Accuracy = 99.00%\n",
      "[Pruned] Epoch 12: Train Loss = 0.0144, Test Accuracy = 99.07%\n",
      "[Pruned] Epoch 13: Train Loss = 0.0136, Test Accuracy = 99.03%\n",
      "[Pruned] Epoch 14: Train Loss = 0.0099, Test Accuracy = 99.01%\n",
      "[Pruned] Epoch 15: Train Loss = 0.0105, Test Accuracy = 99.03%\n",
      "[Pruned] Epoch 16: Train Loss = 0.0086, Test Accuracy = 98.84%\n",
      "[Pruned] Epoch 17: Train Loss = 0.0072, Test Accuracy = 99.10%\n",
      "[Pruned] Epoch 18: Train Loss = 0.0082, Test Accuracy = 99.08%\n",
      "[Pruned] Epoch 19: Train Loss = 0.0080, Test Accuracy = 98.91%\n",
      "[Pruned] Epoch 20: Train Loss = 0.0062, Test Accuracy = 99.06%\n"
     ]
    }
   ],
   "source": [
    "# Inisialisasi ulang model dan mask\n",
    "model = LeNet().to(device)\n",
    "apply_mask_and_reset(model, initial_state_dict, mask_dict)\n",
    "\n",
    "# Optimizer baru\n",
    "optimizer = optim.Adam(model.parameters(), lr=0.001)\n",
    "\n",
    "# Training ulang model hasil pruning\n",
    "retrain_accuracies = []\n",
    "\n",
    "for epoch in range(1, EPOCHS + 1):\n",
    "    train_loss = train(model, device, train_loader, optimizer, criterion, epoch)\n",
    "    test_loss, test_acc = test(model, device, test_loader, criterion)\n",
    "    retrain_accuracies.append(test_acc)\n",
    "    print(f\"[Pruned] Epoch {epoch}: Train Loss = {train_loss:.4f}, Test Accuracy = {test_acc:.2f}%\")"
   ]
  },
  {
   "cell_type": "code",
   "execution_count": 16,
   "id": "eef51ec3-cdb7-489a-9635-7583588f03df",
   "metadata": {},
   "outputs": [
    {
     "data": {
      "image/png": "[encoded data removed]",
      "text/plain": [
       "<Figure size 640x480 with 1 Axes>"
      ]
     },
     "metadata": {},
     "output_type": "display_data"
    }
   ],
   "source": [
    "plt.plot(test_accuracies, label='Baseline Accuracy')\n",
    "plt.plot(retrain_accuracies, label=f'Pruned Accuracy ({prune_percent}%)')\n",
    "plt.xlabel('Epoch')\n",
    "plt.ylabel('Accuracy (%)')\n",
    "plt.title('Lottery Ticket Hypothesis: Baseline vs Pruned')\n",
    "plt.legend()\n",
    "plt.grid(True)\n",
    "plt.show()\n"
   ]
  },
  {
   "cell_type": "code",
   "execution_count": null,
   "id": "3c4329fd-8e8e-448a-905e-9742805d3915",
   "metadata": {},
   "outputs": [],
   "source": []
  }
 ],
 "metadata": {
  "kernelspec": {
   "display_name": "Python 3 (ipykernel)",
   "language": "python",
   "name": "python3"
  },
  "language_info": {
   "codemirror_mode": {
    "name": "ipython",
    "version": 3
   },
   "file_extension": ".py",
   "mimetype": "text/x-python",
   "name": "python",
   "nbconvert_exporter": "python",
   "pygments_lexer": "ipython3",
   "version": "3.13.3"
  }
 },
 "nbformat": 4,
 "nbformat_minor": 5
}
